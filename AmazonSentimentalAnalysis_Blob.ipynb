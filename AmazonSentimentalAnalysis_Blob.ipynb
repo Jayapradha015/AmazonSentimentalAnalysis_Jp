{
 "cells": [
  {
   "cell_type": "markdown",
   "id": "bdb2509d",
   "metadata": {},
   "source": [
    "# Amazon Reviews Sentimental Analysis"
   ]
  },
  {
   "cell_type": "markdown",
   "id": "b1b67317",
   "metadata": {},
   "source": [
    "## Installing TextBlob and Clean-Text "
   ]
  },
  {
   "cell_type": "code",
   "execution_count": 39,
   "id": "b7976b4f",
   "metadata": {},
   "outputs": [
    {
     "name": "stdout",
     "output_type": "stream",
     "text": [
      "Requirement already satisfied: textblob in f:\\anaconda3\\lib\\site-packages (0.17.1)\n",
      "Requirement already satisfied: nltk>=3.1 in f:\\anaconda3\\lib\\site-packages (from textblob) (3.7)\n",
      "Requirement already satisfied: click in f:\\anaconda3\\lib\\site-packages (from nltk>=3.1->textblob) (8.0.4)\n",
      "Requirement already satisfied: joblib in f:\\anaconda3\\lib\\site-packages (from nltk>=3.1->textblob) (1.1.0)\n",
      "Requirement already satisfied: tqdm in f:\\anaconda3\\lib\\site-packages (from nltk>=3.1->textblob) (4.64.1)\n",
      "Requirement already satisfied: regex>=2021.8.3 in f:\\anaconda3\\lib\\site-packages (from nltk>=3.1->textblob) (2022.7.9)\n",
      "Requirement already satisfied: colorama in f:\\anaconda3\\lib\\site-packages (from click->nltk>=3.1->textblob) (0.4.5)\n",
      "Collecting clean-text\n",
      "  Downloading clean_text-0.6.0-py3-none-any.whl (11 kB)\n",
      "Collecting emoji<2.0.0,>=1.0.0\n",
      "  Downloading emoji-1.7.0.tar.gz (175 kB)\n",
      "     -------------------------------------- 175.4/175.4 kB 3.5 MB/s eta 0:00:00\n",
      "  Preparing metadata (setup.py): started\n",
      "  Preparing metadata (setup.py): finished with status 'done'\n",
      "Collecting ftfy<7.0,>=6.0\n",
      "  Downloading ftfy-6.1.1-py3-none-any.whl (53 kB)\n",
      "     ---------------------------------------- 53.1/53.1 kB 2.9 MB/s eta 0:00:00\n",
      "Requirement already satisfied: wcwidth>=0.2.5 in f:\\anaconda3\\lib\\site-packages (from ftfy<7.0,>=6.0->clean-text) (0.2.5)\n",
      "Building wheels for collected packages: emoji\n",
      "  Building wheel for emoji (setup.py): started\n",
      "  Building wheel for emoji (setup.py): finished with status 'done'\n",
      "  Created wheel for emoji: filename=emoji-1.7.0-py3-none-any.whl size=171032 sha256=3435eb21888814aea92f58ceb1c053dcc2811604d307f6d93244dd14b9944120\n",
      "  Stored in directory: c:\\users\\neheil\\appdata\\local\\pip\\cache\\wheels\\fa\\7a\\e9\\22dd0515e1bad255e51663ee513a2fa839c95934c5fc301090\n",
      "Successfully built emoji\n",
      "Installing collected packages: emoji, ftfy, clean-text\n",
      "Successfully installed clean-text-0.6.0 emoji-1.7.0 ftfy-6.1.1\n"
     ]
    }
   ],
   "source": [
    "!pip install -U textblob\n",
    "!pip install clean-text"
   ]
  },
  {
   "cell_type": "markdown",
   "id": "75f61512",
   "metadata": {},
   "source": [
    "## Reading the Scraped Dataset about amazon reviews "
   ]
  },
  {
   "cell_type": "code",
   "execution_count": 1,
   "id": "d1ff04e0",
   "metadata": {},
   "outputs": [
    {
     "data": {
      "text/html": [
       "<div>\n",
       "<style scoped>\n",
       "    .dataframe tbody tr th:only-of-type {\n",
       "        vertical-align: middle;\n",
       "    }\n",
       "\n",
       "    .dataframe tbody tr th {\n",
       "        vertical-align: top;\n",
       "    }\n",
       "\n",
       "    .dataframe thead th {\n",
       "        text-align: right;\n",
       "    }\n",
       "</style>\n",
       "<table border=\"1\" class=\"dataframe\">\n",
       "  <thead>\n",
       "    <tr style=\"text-align: right;\">\n",
       "      <th></th>\n",
       "      <th>Unnamed: 0</th>\n",
       "      <th>Customer Name</th>\n",
       "      <th>Review Title</th>\n",
       "      <th>Rating</th>\n",
       "      <th>Reviews</th>\n",
       "    </tr>\n",
       "  </thead>\n",
       "  <tbody>\n",
       "    <tr>\n",
       "      <th>0</th>\n",
       "      <td>0</td>\n",
       "      <td>Ashutosh singh</td>\n",
       "      <td>Mast hai</td>\n",
       "      <td>5.0 out of 5 stars</td>\n",
       "      <td>I will surprise with the quick touch response</td>\n",
       "    </tr>\n",
       "    <tr>\n",
       "      <th>1</th>\n",
       "      <td>1</td>\n",
       "      <td>Swati</td>\n",
       "      <td>Perfect buy</td>\n",
       "      <td>5.0 out of 5 stars</td>\n",
       "      <td>Must buy earbuds loved the bass quality and ac...</td>\n",
       "    </tr>\n",
       "    <tr>\n",
       "      <th>2</th>\n",
       "      <td>2</td>\n",
       "      <td>Anuragkumar</td>\n",
       "      <td>Perfect partner for lone wolf.</td>\n",
       "      <td>5.0 out of 5 stars</td>\n",
       "      <td>It got very smooth touch contel experience. Th...</td>\n",
       "    </tr>\n",
       "    <tr>\n",
       "      <th>3</th>\n",
       "      <td>3</td>\n",
       "      <td>Ravindra</td>\n",
       "      <td>So good</td>\n",
       "      <td>5.0 out of 5 stars</td>\n",
       "      <td>Balanced sounds in your ears without the distr...</td>\n",
       "    </tr>\n",
       "    <tr>\n",
       "      <th>4</th>\n",
       "      <td>4</td>\n",
       "      <td>Shubham Singh</td>\n",
       "      <td>Worth buying</td>\n",
       "      <td>5.0 out of 5 stars</td>\n",
       "      <td>This is the best earbud I have ever purchased....</td>\n",
       "    </tr>\n",
       "  </tbody>\n",
       "</table>\n",
       "</div>"
      ],
      "text/plain": [
       "   Unnamed: 0   Customer Name                    Review Title  \\\n",
       "0           0  Ashutosh singh                        Mast hai   \n",
       "1           1           Swati                     Perfect buy   \n",
       "2           2     Anuragkumar  Perfect partner for lone wolf.   \n",
       "3           3       Ravindra                          So good   \n",
       "4           4   Shubham Singh                    Worth buying   \n",
       "\n",
       "               Rating                                            Reviews  \n",
       "0  5.0 out of 5 stars      I will surprise with the quick touch response  \n",
       "1  5.0 out of 5 stars  Must buy earbuds loved the bass quality and ac...  \n",
       "2  5.0 out of 5 stars  It got very smooth touch contel experience. Th...  \n",
       "3  5.0 out of 5 stars  Balanced sounds in your ears without the distr...  \n",
       "4  5.0 out of 5 stars  This is the best earbud I have ever purchased....  "
      ]
     },
     "execution_count": 1,
     "metadata": {},
     "output_type": "execute_result"
    }
   ],
   "source": [
    "import pandas as pd\n",
    "df=pd.read_csv(\"Amazon_reviews.csv\")\n",
    "df.head(5)"
   ]
  },
  {
   "cell_type": "code",
   "execution_count": 31,
   "id": "0d95398f",
   "metadata": {},
   "outputs": [
    {
     "name": "stdout",
     "output_type": "stream",
     "text": [
      "<class 'pandas.core.frame.DataFrame'>\n",
      "RangeIndex: 149 entries, 0 to 148\n",
      "Data columns (total 4 columns):\n",
      " #   Column         Non-Null Count  Dtype \n",
      "---  ------         --------------  ----- \n",
      " 0   Customer Name  149 non-null    object\n",
      " 1   Review Title   149 non-null    object\n",
      " 2   Rating         149 non-null    object\n",
      " 3   Reviews        145 non-null    object\n",
      "dtypes: object(4)\n",
      "memory usage: 4.8+ KB\n"
     ]
    }
   ],
   "source": [
    "df.info()"
   ]
  },
  {
   "cell_type": "code",
   "execution_count": 4,
   "id": "dfe98de4",
   "metadata": {},
   "outputs": [
    {
     "data": {
      "text/plain": [
       "Index(['Customer Name', 'Review Title', 'Rating', 'Reviews'], dtype='object')"
      ]
     },
     "execution_count": 4,
     "metadata": {},
     "output_type": "execute_result"
    }
   ],
   "source": [
    "df.columns"
   ]
  },
  {
   "cell_type": "code",
   "execution_count": 3,
   "id": "335cf3ab",
   "metadata": {},
   "outputs": [],
   "source": [
    "df.drop([\"Unnamed: 0\"],axis=1,inplace=True)"
   ]
  },
  {
   "cell_type": "markdown",
   "id": "73d77f41",
   "metadata": {},
   "source": [
    "## Importing Libraries"
   ]
  },
  {
   "cell_type": "code",
   "execution_count": 2,
   "id": "f2002cf3",
   "metadata": {},
   "outputs": [
    {
     "name": "stderr",
     "output_type": "stream",
     "text": [
      "[nltk_data] Downloading package punkt to\n",
      "[nltk_data]     C:\\Users\\Neheil\\AppData\\Roaming\\nltk_data...\n",
      "[nltk_data]   Package punkt is already up-to-date!\n",
      "[nltk_data] Downloading package stopwords to\n",
      "[nltk_data]     C:\\Users\\Neheil\\AppData\\Roaming\\nltk_data...\n",
      "[nltk_data]   Package stopwords is already up-to-date!\n",
      "[nltk_data] Downloading package wordnet to\n",
      "[nltk_data]     C:\\Users\\Neheil\\AppData\\Roaming\\nltk_data...\n",
      "[nltk_data]   Package wordnet is already up-to-date!\n",
      "[nltk_data] Downloading package averaged_perceptron_tagger to\n",
      "[nltk_data]     C:\\Users\\Neheil\\AppData\\Roaming\\nltk_data...\n",
      "[nltk_data]   Package averaged_perceptron_tagger is already up-to-\n",
      "[nltk_data]       date!\n"
     ]
    }
   ],
   "source": [
    "import re\n",
    "import nltk\n",
    "nltk.download('punkt')\n",
    "nltk.download(\"stopwords\")\n",
    "nltk.download('wordnet')\n",
    "nltk.download('averaged_perceptron_tagger')\n",
    "from nltk.tokenize import word_tokenize\n",
    "from nltk.tokenize import RegexpTokenizer\n",
    "from nltk.corpus import stopwords\n",
    "stopwords=set(stopwords.words('english'))\n",
    "from nltk.stem.porter import PorterStemmer\n",
    "from nltk.stem import WordNetLemmatizer\n",
    "from nltk import pos_tag\n",
    "stemmer= PorterStemmer()\n",
    "lemmatizer = WordNetLemmatizer()\n",
    "from textblob import TextBlob\n",
    "from cleantext import clean"
   ]
  },
  {
   "cell_type": "markdown",
   "id": "63b3409d",
   "metadata": {},
   "source": [
    "## Processing the raw data using varies libraries"
   ]
  },
  {
   "cell_type": "code",
   "execution_count": 5,
   "id": "397be512",
   "metadata": {},
   "outputs": [],
   "source": [
    "# processing the reviews one by one\n",
    "sentiment=[]\n",
    "for index in df.index:\n",
    "    review1=df.loc[index][\"Reviews\"]\n",
    "    # cleaning the emoji \n",
    "    review=clean(review1, no_emoji=True)\n",
    "    # removing the numbers\n",
    "    pattern=r'[0 - 9]'\n",
    "    reviews=re.sub(pattern,\" \",review)\n",
    "    # lowering the case\n",
    "    reviews=reviews.lower()\n",
    "    reviews=str(TextBlob(reviews).correct())\n",
    "    # creating the tokens from reviews\n",
    "    tokens=RegexpTokenizer(r'\\w+').tokenize(reviews)\n",
    "    # removing the stopwords from the tokens\n",
    "    cleaned_tokens=[token for token in tokens if token not in stopwords]\n",
    "    # joining the cleaned tokens\n",
    "    clean_reviews=\" \".join(cleaned_tokens)\n",
    "    #using textblob analysis the sentiment of the review\n",
    "    analysis=TextBlob(clean_reviews)\n",
    "    if analysis.sentiment.polarity>0:\n",
    "        sentiment.append('positve')\n",
    "    elif analysis.sentiment.polarity==0:\n",
    "        sentiment.append('neutral')\n",
    "    else:\n",
    "        sentiment.append('negetive')\n",
    "# adding the new sentiment column in df       \n",
    "df['Sentiment']=sentiment \n"
   ]
  },
  {
   "cell_type": "code",
   "execution_count": 15,
   "id": "afc6a45c",
   "metadata": {},
   "outputs": [],
   "source": [
    "df.drop([\"Unnamed: 0\",\"sentiment\"],axis=1,inplace=True)"
   ]
  },
  {
   "cell_type": "code",
   "execution_count": 16,
   "id": "13187e02",
   "metadata": {},
   "outputs": [
    {
     "data": {
      "text/html": [
       "<div>\n",
       "<style scoped>\n",
       "    .dataframe tbody tr th:only-of-type {\n",
       "        vertical-align: middle;\n",
       "    }\n",
       "\n",
       "    .dataframe tbody tr th {\n",
       "        vertical-align: top;\n",
       "    }\n",
       "\n",
       "    .dataframe thead th {\n",
       "        text-align: right;\n",
       "    }\n",
       "</style>\n",
       "<table border=\"1\" class=\"dataframe\">\n",
       "  <thead>\n",
       "    <tr style=\"text-align: right;\">\n",
       "      <th></th>\n",
       "      <th>Customer Name</th>\n",
       "      <th>Review Title</th>\n",
       "      <th>Rating</th>\n",
       "      <th>Reviews</th>\n",
       "      <th>Sentiment</th>\n",
       "    </tr>\n",
       "  </thead>\n",
       "  <tbody>\n",
       "    <tr>\n",
       "      <th>0</th>\n",
       "      <td>Ashutosh singh</td>\n",
       "      <td>Mast hai</td>\n",
       "      <td>5.0 out of 5 stars</td>\n",
       "      <td>I will surprise with the quick touch response</td>\n",
       "      <td>positve</td>\n",
       "    </tr>\n",
       "    <tr>\n",
       "      <th>1</th>\n",
       "      <td>Swati</td>\n",
       "      <td>Perfect buy</td>\n",
       "      <td>5.0 out of 5 stars</td>\n",
       "      <td>Must buy earbuds loved the bass quality and ac...</td>\n",
       "      <td>positve</td>\n",
       "    </tr>\n",
       "    <tr>\n",
       "      <th>2</th>\n",
       "      <td>Anuragkumar</td>\n",
       "      <td>Perfect partner for lone wolf.</td>\n",
       "      <td>5.0 out of 5 stars</td>\n",
       "      <td>It got very smooth touch contel experience. Th...</td>\n",
       "      <td>positve</td>\n",
       "    </tr>\n",
       "    <tr>\n",
       "      <th>3</th>\n",
       "      <td>Ravindra</td>\n",
       "      <td>So good</td>\n",
       "      <td>5.0 out of 5 stars</td>\n",
       "      <td>Balanced sounds in your ears without the distr...</td>\n",
       "      <td>neutral</td>\n",
       "    </tr>\n",
       "    <tr>\n",
       "      <th>4</th>\n",
       "      <td>Shubham Singh</td>\n",
       "      <td>Worth buying</td>\n",
       "      <td>5.0 out of 5 stars</td>\n",
       "      <td>This is the best earbud I have ever purchased....</td>\n",
       "      <td>positve</td>\n",
       "    </tr>\n",
       "    <tr>\n",
       "      <th>5</th>\n",
       "      <td>Kavilash Fund</td>\n",
       "      <td>Great</td>\n",
       "      <td>5.0 out of 5 stars</td>\n",
       "      <td>All over performance is good</td>\n",
       "      <td>positve</td>\n",
       "    </tr>\n",
       "    <tr>\n",
       "      <th>6</th>\n",
       "      <td>harsh khatiwala</td>\n",
       "      <td>Nice!</td>\n",
       "      <td>5.0 out of 5 stars</td>\n",
       "      <td>Nice!!!</td>\n",
       "      <td>positve</td>\n",
       "    </tr>\n",
       "    <tr>\n",
       "      <th>7</th>\n",
       "      <td>Joshua tajo</td>\n",
       "      <td>Its a great airbuds for gaming.....</td>\n",
       "      <td>5.0 out of 5 stars</td>\n",
       "      <td>The media could not be loa...</td>\n",
       "      <td>positve</td>\n",
       "    </tr>\n",
       "    <tr>\n",
       "      <th>8</th>\n",
       "      <td>Deepak</td>\n",
       "      <td>Awesome</td>\n",
       "      <td>5.0 out of 5 stars</td>\n",
       "      <td>The media could not be loa...</td>\n",
       "      <td>positve</td>\n",
       "    </tr>\n",
       "    <tr>\n",
       "      <th>9</th>\n",
       "      <td>Sam</td>\n",
       "      <td>Lost of charging problem</td>\n",
       "      <td>2.0 out of 5 stars</td>\n",
       "      <td>In Charging box the left charging point doesn'...</td>\n",
       "      <td>positve</td>\n",
       "    </tr>\n",
       "  </tbody>\n",
       "</table>\n",
       "</div>"
      ],
      "text/plain": [
       "     Customer Name                         Review Title              Rating  \\\n",
       "0   Ashutosh singh                             Mast hai  5.0 out of 5 stars   \n",
       "1            Swati                          Perfect buy  5.0 out of 5 stars   \n",
       "2      Anuragkumar       Perfect partner for lone wolf.  5.0 out of 5 stars   \n",
       "3        Ravindra                               So good  5.0 out of 5 stars   \n",
       "4    Shubham Singh                         Worth buying  5.0 out of 5 stars   \n",
       "5    Kavilash Fund                                Great  5.0 out of 5 stars   \n",
       "6  harsh khatiwala                                Nice!  5.0 out of 5 stars   \n",
       "7      Joshua tajo  Its a great airbuds for gaming.....  5.0 out of 5 stars   \n",
       "8           Deepak                              Awesome  5.0 out of 5 stars   \n",
       "9             Sam              Lost of charging problem  2.0 out of 5 stars   \n",
       "\n",
       "                                             Reviews Sentiment  \n",
       "0      I will surprise with the quick touch response   positve  \n",
       "1  Must buy earbuds loved the bass quality and ac...   positve  \n",
       "2  It got very smooth touch contel experience. Th...   positve  \n",
       "3  Balanced sounds in your ears without the distr...   neutral  \n",
       "4  This is the best earbud I have ever purchased....   positve  \n",
       "5                       All over performance is good   positve  \n",
       "6                                            Nice!!!   positve  \n",
       "7                      The media could not be loa...   positve  \n",
       "8                      The media could not be loa...   positve  \n",
       "9  In Charging box the left charging point doesn'...   positve  "
      ]
     },
     "execution_count": 16,
     "metadata": {},
     "output_type": "execute_result"
    }
   ],
   "source": [
    "df.head(10)"
   ]
  },
  {
   "cell_type": "code",
   "execution_count": 20,
   "id": "53971e02",
   "metadata": {},
   "outputs": [
    {
     "data": {
      "text/html": [
       "<div>\n",
       "<style scoped>\n",
       "    .dataframe tbody tr th:only-of-type {\n",
       "        vertical-align: middle;\n",
       "    }\n",
       "\n",
       "    .dataframe tbody tr th {\n",
       "        vertical-align: top;\n",
       "    }\n",
       "\n",
       "    .dataframe thead th {\n",
       "        text-align: right;\n",
       "    }\n",
       "</style>\n",
       "<table border=\"1\" class=\"dataframe\">\n",
       "  <thead>\n",
       "    <tr style=\"text-align: right;\">\n",
       "      <th></th>\n",
       "      <th>index</th>\n",
       "      <th>Sentiment</th>\n",
       "    </tr>\n",
       "  </thead>\n",
       "  <tbody>\n",
       "    <tr>\n",
       "      <th>0</th>\n",
       "      <td>positve</td>\n",
       "      <td>106</td>\n",
       "    </tr>\n",
       "    <tr>\n",
       "      <th>1</th>\n",
       "      <td>neutral</td>\n",
       "      <td>27</td>\n",
       "    </tr>\n",
       "    <tr>\n",
       "      <th>2</th>\n",
       "      <td>negetive</td>\n",
       "      <td>16</td>\n",
       "    </tr>\n",
       "  </tbody>\n",
       "</table>\n",
       "</div>"
      ],
      "text/plain": [
       "      index  Sentiment\n",
       "0   positve        106\n",
       "1   neutral         27\n",
       "2  negetive         16"
      ]
     },
     "execution_count": 20,
     "metadata": {},
     "output_type": "execute_result"
    }
   ],
   "source": [
    "# finding the value counts of each category of analysis\n",
    "df_senti=df[\"Sentiment\"].value_counts().reset_index()\n",
    "df_senti"
   ]
  },
  {
   "cell_type": "code",
   "execution_count": 17,
   "id": "d4323b43",
   "metadata": {},
   "outputs": [],
   "source": [
    "import matplotlib.pyplot as plt\n"
   ]
  },
  {
   "cell_type": "code",
   "execution_count": 22,
   "id": "6619360b",
   "metadata": {},
   "outputs": [
    {
     "data": {
      "image/png": "[encoded data removed]",
      "text/plain": [
       "<Figure size 640x480 with 1 Axes>"
      ]
     },
     "metadata": {},
     "output_type": "display_data"
    }
   ],
   "source": [
    "# ploting the value count of analysis\n",
    "myexplode=[0.1,0,0]\n",
    "plt.pie(df_senti[\"Sentiment\"],labels=df_senti[\"index\"],startangle = 90,explode=myexplode,shadow=True,autopct='%1.2f%%')\n",
    "plt.show()"
   ]
  },
  {
   "cell_type": "markdown",
   "id": "e6d79f9e",
   "metadata": {},
   "source": [
    "### As we see these amazon reviews on ear phone consists of more positive reviews, after that neutral reviews are more in number"
   ]
  },
  {
   "cell_type": "code",
   "execution_count": null,
   "id": "78db6ebe",
   "metadata": {},
   "outputs": [],
   "source": []
  }
 ],
 "metadata": {
  "kernelspec": {
   "display_name": "Python 3 (ipykernel)",
   "language": "python",
   "name": "python3"
  },
  "language_info": {
   "codemirror_mode": {
    "name": "ipython",
    "version": 3
   },
   "file_extension": ".py",
   "mimetype": "text/x-python",
   "name": "python",
   "nbconvert_exporter": "python",
   "pygments_lexer": "ipython3",
   "version": "3.9.13"
  }
 },
 "nbformat": 4,
 "nbformat_minor": 5
}
